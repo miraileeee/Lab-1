{
 "cells": [
  {
   "cell_type": "markdown",
   "metadata": {},
   "source": [
    "Intro exercise"
   ]
  },
  {
   "cell_type": "code",
   "execution_count": 1,
   "metadata": {},
   "outputs": [
    {
     "name": "stdout",
     "output_type": "stream",
     "text": [
      "Hello, World!\n"
     ]
    }
   ],
   "source": [
    "print (\"Hello, World!\")"
   ]
  },
  {
   "cell_type": "markdown",
   "metadata": {},
   "source": [
    "Version "
   ]
  },
  {
   "cell_type": "code",
   "execution_count": 2,
   "metadata": {},
   "outputs": [
    {
     "name": "stdout",
     "output_type": "stream",
     "text": [
      "3.13.1 (tags/v3.13.1:0671451, Dec  3 2024, 19:06:28) [MSC v.1942 64 bit (AMD64)]\n"
     ]
    }
   ],
   "source": [
    "import sys\n",
    "print (sys.version)"
   ]
  },
  {
   "cell_type": "markdown",
   "metadata": {},
   "source": [
    "Indentation (spaces)"
   ]
  },
  {
   "cell_type": "code",
   "execution_count": 5,
   "metadata": {},
   "outputs": [
    {
     "name": "stdout",
     "output_type": "stream",
     "text": [
      "Five is greater than two!\n"
     ]
    }
   ],
   "source": [
    "if 5 > 2:\n",
    "    print (\"Five is greater than two!\")"
   ]
  },
  {
   "cell_type": "markdown",
   "metadata": {},
   "source": [
    "Variables"
   ]
  },
  {
   "cell_type": "code",
   "execution_count": 6,
   "metadata": {},
   "outputs": [],
   "source": [
    "x = 5\n",
    "y = \"Hello, World!\""
   ]
  },
  {
   "cell_type": "markdown",
   "metadata": {},
   "source": [
    "Comments"
   ]
  },
  {
   "cell_type": "code",
   "execution_count": 8,
   "metadata": {},
   "outputs": [
    {
     "name": "stdout",
     "output_type": "stream",
     "text": [
      "Hello, World!\n"
     ]
    }
   ],
   "source": [
    "#print (\"Cheers, mate!\")\n",
    "print (\"Hello, World!\")"
   ]
  },
  {
   "cell_type": "markdown",
   "metadata": {},
   "source": [
    "Multiline comments"
   ]
  },
  {
   "cell_type": "code",
   "execution_count": 9,
   "metadata": {},
   "outputs": [
    {
     "name": "stdout",
     "output_type": "stream",
     "text": [
      "Hello, World!\n"
     ]
    }
   ],
   "source": [
    "#pen\n",
    "#pinapple\n",
    "#apple pen\n",
    "print (\"Hello, World!\")"
   ]
  },
  {
   "cell_type": "markdown",
   "metadata": {},
   "source": [
    "Multiline string comment"
   ]
  },
  {
   "cell_type": "code",
   "execution_count": 10,
   "metadata": {},
   "outputs": [
    {
     "name": "stdout",
     "output_type": "stream",
     "text": [
      "Hello, World!\n"
     ]
    }
   ],
   "source": [
    "\"\"\" \n",
    "pen\n",
    "pineapple \n",
    "apple pen\n",
    "\"\"\"\n",
    "print (\"Hello, World!\")"
   ]
  },
  {
   "cell_type": "markdown",
   "metadata": {},
   "source": [
    "Creating variables"
   ]
  },
  {
   "cell_type": "code",
   "execution_count": 11,
   "metadata": {},
   "outputs": [
    {
     "name": "stdout",
     "output_type": "stream",
     "text": [
      "5\n",
      "Chopper\n"
     ]
    }
   ],
   "source": [
    "x = 5    \n",
    "y = \"Chopper\"\n",
    "print (x)\n",
    "print (y)"
   ]
  },
  {
   "cell_type": "markdown",
   "metadata": {},
   "source": [
    "Casting "
   ]
  },
  {
   "cell_type": "code",
   "execution_count": 12,
   "metadata": {},
   "outputs": [],
   "source": [
    "x = str(3)\n",
    "y = int(3)\n",
    "z = float(3)"
   ]
  },
  {
   "cell_type": "markdown",
   "metadata": {},
   "source": [
    "Type of a function"
   ]
  },
  {
   "cell_type": "code",
   "execution_count": 13,
   "metadata": {},
   "outputs": [
    {
     "name": "stdout",
     "output_type": "stream",
     "text": [
      "<class 'int'>\n",
      "<class 'str'>\n"
     ]
    }
   ],
   "source": [
    "x = 5\n",
    "y = \"Chopper\"\n",
    "print (type(x))\n",
    "print (type(y))"
   ]
  },
  {
   "cell_type": "markdown",
   "metadata": {},
   "source": [
    "Single/ double quotes"
   ]
  },
  {
   "cell_type": "code",
   "execution_count": 14,
   "metadata": {},
   "outputs": [
    {
     "name": "stdout",
     "output_type": "stream",
     "text": [
      "Chopper\n",
      "Chopper\n"
     ]
    }
   ],
   "source": [
    "x = \"Chopper\"\n",
    "print (x)\n",
    "x = 'Chopper'\n",
    "print (x)"
   ]
  },
  {
   "cell_type": "markdown",
   "metadata": {},
   "source": [
    "Upper/lowercase"
   ]
  },
  {
   "cell_type": "code",
   "execution_count": 15,
   "metadata": {},
   "outputs": [
    {
     "name": "stdout",
     "output_type": "stream",
     "text": [
      "4\n",
      "Robin\n"
     ]
    }
   ],
   "source": [
    "a = 4\n",
    "print(a)\n",
    "A = \"Robin\"\n",
    "print(A)"
   ]
  },
  {
   "cell_type": "code",
   "execution_count": 16,
   "metadata": {},
   "outputs": [
    {
     "name": "stdout",
     "output_type": "stream",
     "text": [
      "Ace\n",
      "Ace\n",
      "Ace\n"
     ]
    }
   ],
   "source": [
    "name2 = \"Ace\" \n",
    "no_name = \"Ace\"  \n",
    "_no_name = \"Ace\"  \n",
    "print(name2)\n",
    "print(no_name)\n",
    "print(_no_name)\n"
   ]
  },
  {
   "cell_type": "markdown",
   "metadata": {},
   "source": [
    "Camel/ Pascal/ Snake case variable naming"
   ]
  },
  {
   "cell_type": "code",
   "execution_count": null,
   "metadata": {},
   "outputs": [],
   "source": [
    "myLastName = \"Lee\"\n",
    "MyLastName = \"Lee\"  \n",
    "my_last_name = \"Lee\""
   ]
  },
  {
   "cell_type": "markdown",
   "metadata": {},
   "source": [
    "Multiple variables & values"
   ]
  },
  {
   "cell_type": "code",
   "execution_count": 17,
   "metadata": {},
   "outputs": [
    {
     "name": "stdout",
     "output_type": "stream",
     "text": [
      "Pen\n",
      "Pineapple\n",
      "Apple\n"
     ]
    }
   ],
   "source": [
    "x, y, z = \"Pen\", \"Pineapple\", \"Apple\"\n",
    "print(x)\n",
    "print(y)\n",
    "print(z)"
   ]
  },
  {
   "cell_type": "markdown",
   "metadata": {},
   "source": [
    "Same value variables"
   ]
  },
  {
   "cell_type": "code",
   "execution_count": 18,
   "metadata": {},
   "outputs": [
    {
     "name": "stdout",
     "output_type": "stream",
     "text": [
      "Apple\n",
      "Apple\n",
      "Apple\n"
     ]
    }
   ],
   "source": [
    "x = y = x = \"Apple\"  \n",
    "print(x)\n",
    "print(y)\n",
    "print(z)"
   ]
  },
  {
   "cell_type": "markdown",
   "metadata": {},
   "source": [
    "Collection unpacking"
   ]
  },
  {
   "cell_type": "code",
   "execution_count": 22,
   "metadata": {},
   "outputs": [
    {
     "name": "stdout",
     "output_type": "stream",
     "text": [
      "mango\n",
      "cherry\n",
      "peach\n"
     ]
    }
   ],
   "source": [
    "fruits = [\"mango\", \"cherry\", \"peach\"]\n",
    "x, y, z = fruits\n",
    "print(x)\n",
    "print(y)\n",
    "print(z)"
   ]
  },
  {
   "cell_type": "markdown",
   "metadata": {},
   "source": [
    "Output variables"
   ]
  },
  {
   "cell_type": "code",
   "execution_count": 24,
   "metadata": {},
   "outputs": [
    {
     "name": "stdout",
     "output_type": "stream",
     "text": [
      "Python is good\n",
      "Python is good\n",
      "Python is good \n"
     ]
    }
   ],
   "source": [
    "x = \"Python is good\"\n",
    "print(x)\n",
    "x = \"Python\"\n",
    "y = \"is\"  \n",
    "z = \"good\"  \n",
    "print (x, y, z)\n",
    "x = \"Python \"\n",
    "y = \"is \" \n",
    "z = \"good \"\n",
    "print (x + y + z)"
   ]
  },
  {
   "cell_type": "markdown",
   "metadata": {},
   "source": [
    "Output for numbers and string"
   ]
  },
  {
   "cell_type": "code",
   "execution_count": 25,
   "metadata": {},
   "outputs": [
    {
     "name": "stdout",
     "output_type": "stream",
     "text": [
      "8\n",
      "5 Tony\n"
     ]
    }
   ],
   "source": [
    "x = 5\n",
    "y = 3\n",
    "print (x + y)\n",
    "x = 5\n",
    "y = \"Tony\"\n",
    "print (x, y)"
   ]
  },
  {
   "cell_type": "markdown",
   "metadata": {},
   "source": [
    "Global variables"
   ]
  },
  {
   "cell_type": "code",
   "execution_count": 27,
   "metadata": {},
   "outputs": [
    {
     "name": "stdout",
     "output_type": "stream",
     "text": [
      "Python is good\n",
      "Python is nice\n"
     ]
    }
   ],
   "source": [
    "x = \"nice\"\n",
    "def myFunc():\n",
    "    x = \"good\"\n",
    "    print(\"Python is \" + x)\n",
    "\n",
    "myFunc()\n",
    "print (\"Python is \" + x)"
   ]
  },
  {
   "cell_type": "markdown",
   "metadata": {},
   "source": [
    "Keyword \"Global\""
   ]
  },
  {
   "cell_type": "code",
   "execution_count": 29,
   "metadata": {},
   "outputs": [
    {
     "name": "stdout",
     "output_type": "stream",
     "text": [
      "Python is ok\n"
     ]
    }
   ],
   "source": [
    "def myfunc():\n",
    "    global x\n",
    "    x = \"ok\"\n",
    "myfunc()\n",
    "print (\"Python is \" + x)"
   ]
  },
  {
   "cell_type": "code",
   "execution_count": 30,
   "metadata": {},
   "outputs": [
    {
     "name": "stdout",
     "output_type": "stream",
     "text": [
      "Python is ok\n"
     ]
    }
   ],
   "source": [
    "x = \"nice\"\n",
    "def myfunc():\n",
    "    global x\n",
    "    x = \"ok\"\n",
    "myfunc()\n",
    "print (\"Python is \" + x)"
   ]
  },
  {
   "cell_type": "markdown",
   "metadata": {},
   "source": [
    "Data types"
   ]
  },
  {
   "cell_type": "code",
   "execution_count": 32,
   "metadata": {},
   "outputs": [
    {
     "name": "stdout",
     "output_type": "stream",
     "text": [
      "<class 'str'>\n",
      "<class 'int'>\n",
      "<class 'float'>\n",
      "<class 'complex'>\n",
      "<class 'list'>\n",
      "<class 'tuple'>\n",
      "<class 'range'>\n",
      "<class 'dict'>\n",
      "<class 'set'>\n",
      "<class 'frozenset'>\n",
      "<class 'bool'>\n",
      "<class 'bytes'>\n",
      "<class 'bytearray'>\n",
      "<class 'memoryview'>\n",
      "<class 'NoneType'>\n"
     ]
    }
   ],
   "source": [
    "x = \"hi\"\n",
    "print (type(x))\n",
    "x = 1  \n",
    "print (type(x))\n",
    "x = 1.2\n",
    "print (type(x))\n",
    "x = 1j\n",
    "print (type(x))\n",
    "x = [\"a\", \"b\", \"c\"]\n",
    "print (type(x))\n",
    "x = (\"a\", \"b\", \"c\")\n",
    "print (type(x))\n",
    "x = range(1)\n",
    "print (type(x))\n",
    "x = {\"a\" : \"1\", \"b\" : \"2\"}\n",
    "print (type(x))\n",
    "x = {\"a\", \"b\", \"c\"}\n",
    "print (type(x))\n",
    "x = frozenset({\"a\", \"b\", \"c\"})\n",
    "print (type(x))\n",
    "x = True\n",
    "print (type(x))\n",
    "x = b\"hi\"\n",
    "print (type(x))\n",
    "x = bytearray(1)\n",
    "print (type(x))\n",
    "x = memoryview(bytes(1))\n",
    "print (type(x))\n",
    "x = None\n",
    "print (type(x))\n",
    "\n"
   ]
  },
  {
   "cell_type": "markdown",
   "metadata": {},
   "source": [
    "Numbers and numeric types"
   ]
  },
  {
   "cell_type": "code",
   "execution_count": 34,
   "metadata": {},
   "outputs": [
    {
     "name": "stdout",
     "output_type": "stream",
     "text": [
      "<class 'int'>\n",
      "<class 'float'>\n",
      "<class 'complex'>\n"
     ]
    }
   ],
   "source": [
    "x = 1 \n",
    "y = 1.0\n",
    "z = 1j\n",
    "print (type(x))\n",
    "print (type(y))\n",
    "print (type(z))"
   ]
  },
  {
   "cell_type": "markdown",
   "metadata": {},
   "source": [
    "Integer type"
   ]
  },
  {
   "cell_type": "code",
   "execution_count": 35,
   "metadata": {},
   "outputs": [
    {
     "name": "stdout",
     "output_type": "stream",
     "text": [
      "<class 'int'>\n",
      "<class 'int'>\n",
      "<class 'int'>\n"
     ]
    }
   ],
   "source": [
    "x = 1\n",
    "y = 1111111111111111\n",
    "z = -111111\n",
    "print (type(x))\n",
    "print (type(y))\n",
    "print (type(z))"
   ]
  },
  {
   "cell_type": "markdown",
   "metadata": {},
   "source": [
    "Float type"
   ]
  },
  {
   "cell_type": "code",
   "execution_count": 37,
   "metadata": {},
   "outputs": [
    {
     "name": "stdout",
     "output_type": "stream",
     "text": [
      "<class 'float'>\n",
      "<class 'float'>\n",
      "<class 'float'>\n",
      "<class 'float'>\n",
      "<class 'float'>\n",
      "<class 'float'>\n"
     ]
    }
   ],
   "source": [
    "x = 1.10\n",
    "y = 1.0\n",
    "z = -1.01\n",
    "print (type(x))\n",
    "print (type(y))\n",
    "print (type(z))\n",
    "x = 1e2\n",
    "y = 1E2\n",
    "z = -10.1e10\n",
    "print (type(x))\n",
    "print (type(y))\n",
    "print (type(z))"
   ]
  },
  {
   "cell_type": "markdown",
   "metadata": {},
   "source": [
    "Complex type"
   ]
  },
  {
   "cell_type": "code",
   "execution_count": 38,
   "metadata": {},
   "outputs": [
    {
     "name": "stdout",
     "output_type": "stream",
     "text": [
      "<class 'complex'>\n",
      "<class 'complex'>\n",
      "<class 'complex'>\n"
     ]
    }
   ],
   "source": [
    "x = 1 + 2j\n",
    "y = 2j\n",
    "z = -2j\n",
    "print (type(x))\n",
    "print (type(y))\n",
    "print (type(z))"
   ]
  },
  {
   "cell_type": "markdown",
   "metadata": {},
   "source": [
    "Conversion types"
   ]
  },
  {
   "cell_type": "code",
   "execution_count": 39,
   "metadata": {},
   "outputs": [
    {
     "name": "stdout",
     "output_type": "stream",
     "text": [
      "1.0\n",
      "1\n",
      "(1+0j)\n",
      "<class 'float'>\n",
      "<class 'int'>\n",
      "<class 'complex'>\n"
     ]
    }
   ],
   "source": [
    "x = 1\n",
    "y = 1.1\n",
    "z = 1j\n",
    "a = float(x)\n",
    "b = int(y)\n",
    "c = complex(x)\n",
    "print(a)\n",
    "print(b)\n",
    "print(c)\n",
    "print (type(a))\n",
    "print (type(b))\n",
    "print (type(c))"
   ]
  },
  {
   "cell_type": "markdown",
   "metadata": {},
   "source": [
    "Random numbers"
   ]
  },
  {
   "cell_type": "code",
   "execution_count": 42,
   "metadata": {},
   "outputs": [
    {
     "name": "stdout",
     "output_type": "stream",
     "text": [
      "-10\n"
     ]
    }
   ],
   "source": [
    "import random\n",
    "print(random.randrange(-10, 10))"
   ]
  },
  {
   "cell_type": "markdown",
   "metadata": {},
   "source": [
    "Casting"
   ]
  },
  {
   "cell_type": "code",
   "execution_count": 43,
   "metadata": {},
   "outputs": [
    {
     "name": "stdout",
     "output_type": "stream",
     "text": [
      "6\n",
      "6\n",
      "6\n",
      "6.0\n",
      "6.0\n",
      "6.1\n",
      "s\n",
      "6\n",
      "6.6\n"
     ]
    }
   ],
   "source": [
    "x = int(6)\n",
    "y = int(6.6)\n",
    "z = int(\"6\")\n",
    "print(x)\n",
    "print(y)\n",
    "print(z)\n",
    "x = float(6)\n",
    "y = float(\"6\")\n",
    "z = float(\"6.1\")\n",
    "print(x)\n",
    "print(y)\n",
    "print(z)\n",
    "x = str(\"s\")\n",
    "y = str(6)\n",
    "z = str(6.6)\n",
    "print(x)\n",
    "print(y)\n",
    "print(z)\n"
   ]
  },
  {
   "cell_type": "markdown",
   "metadata": {},
   "source": [
    "Strings"
   ]
  },
  {
   "cell_type": "code",
   "execution_count": 44,
   "metadata": {},
   "outputs": [
    {
     "name": "stdout",
     "output_type": "stream",
     "text": [
      "Tony \"Tony\" Chopper\n",
      "Tony 'Tony' Chopper\n"
     ]
    }
   ],
   "source": [
    "print('Tony \"Tony\" Chopper')\n",
    "print(\"Tony 'Tony' Chopper\")\n",
    "      "
   ]
  },
  {
   "cell_type": "markdown",
   "metadata": {},
   "source": [
    "Multiline strings"
   ]
  },
  {
   "cell_type": "code",
   "execution_count": 45,
   "metadata": {},
   "outputs": [
    {
     "name": "stdout",
     "output_type": "stream",
     "text": [
      "boku \n",
      "wa\n",
      "doctor\n",
      "tony \n",
      "tony\n",
      "chopper\n"
     ]
    }
   ],
   "source": [
    "a = \"\"\"boku \n",
    "wa\n",
    "doctor\"\"\"  \n",
    "print (a)\n",
    "a = '''tony \n",
    "tony\n",
    "chopper'''\n",
    "print(a)"
   ]
  },
  {
   "cell_type": "markdown",
   "metadata": {},
   "source": [
    "Arrays as strings"
   ]
  },
  {
   "cell_type": "code",
   "execution_count": 50,
   "metadata": {},
   "outputs": [
    {
     "name": "stdout",
     "output_type": "stream",
     "text": [
      "R\n",
      "6\n"
     ]
    }
   ],
   "source": [
    "a = \"Hi Ren\"\n",
    "print(a[3])\n",
    "print(len(a))"
   ]
  },
  {
   "cell_type": "code",
   "execution_count": 51,
   "metadata": {},
   "outputs": [
    {
     "name": "stdout",
     "output_type": "stream",
     "text": [
      "C\n",
      "r\n",
      "e\n",
      "e\n",
      "p\n"
     ]
    }
   ],
   "source": [
    "for x in \"Creep\":\n",
    "    print(x)"
   ]
  },
  {
   "cell_type": "code",
   "execution_count": 56,
   "metadata": {},
   "outputs": [
    {
     "name": "stdout",
     "output_type": "stream",
     "text": [
      "True\n",
      "Yes, 'bible' is present.\n",
      "True\n",
      "No, 'snuck' is NOT present\n"
     ]
    }
   ],
   "source": [
    "s1 = \"Fudge is my favourite snack after bible study\"\n",
    "print(\"bible\" in s1)\n",
    "if (\"bible\" in s1):\n",
    "    print(\"Yes, 'bible' is present.\")\n",
    "\n",
    "print (\"snuck\" not in s1)\n",
    "if (\"snuck\" not in s1):\n",
    "    print (\"No, 'snuck' is NOT present\")"
   ]
  }
 ],
 "metadata": {
  "kernelspec": {
   "display_name": "Python 3",
   "language": "python",
   "name": "python3"
  },
  "language_info": {
   "codemirror_mode": {
    "name": "ipython",
    "version": 3
   },
   "file_extension": ".py",
   "mimetype": "text/x-python",
   "name": "python",
   "nbconvert_exporter": "python",
   "pygments_lexer": "ipython3",
   "version": "3.13.1"
  }
 },
 "nbformat": 4,
 "nbformat_minor": 2
}
